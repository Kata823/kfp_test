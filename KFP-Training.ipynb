{
 "cells": [
  {
   "cell_type": "markdown",
   "id": "46f10913-165d-4192-9f41-3447f714569b",
   "metadata": {},
   "source": [
    "# Vertex Pipelines: Qwik Start"
   ]
  },
  {
   "cell_type": "markdown",
   "id": "16420b30-8890-4bf6-a5ee-3735057aee15",
   "metadata": {},
   "source": [
    "## Vertex Pipelines settings"
   ]
  },
  {
   "cell_type": "markdown",
   "id": "75631f16-d390-4de8-98f8-c7fdf862ce4d",
   "metadata": {},
   "source": [
    "There are a few additional libraries you'll need to install in order to use Vertex Pipelines:"
   ]
  },
  {
   "cell_type": "markdown",
   "id": "c8e2c6fe-5926-47e8-b931-f866b00c0c96",
   "metadata": {},
   "source": [
    "- `Kubeflow Pipelines`: This is the SDK used to build the pipeline. Vertex Pipelines supports running pipelines built with both Kubeflow Pipelines or TFX.\n",
    "- `Google Cloud Pipeline Components`: This library provides pre-built components that make it easier to interact with Vertex AI services from your pipeline steps."
   ]
  },
  {
   "cell_type": "markdown",
   "id": "36420094-f539-4756-8320-d51ea3cf0113",
   "metadata": {},
   "source": [
    "### Step 1: Create Python notebook and install libraries"
   ]
  },
  {
   "cell_type": "markdown",
   "id": "a0b63c21-a658-482e-83f2-d8a11ca9b0a3",
   "metadata": {},
   "source": [
    "From the Launcher menu in your Notebook instance, create a notebook by selecting Python 3:"
   ]
  },
  {
   "cell_type": "markdown",
   "id": "58085175-4f19-455e-b5c3-17928c363329",
   "metadata": {},
   "source": [
    "<img src=\"img/GCP_python.png\">"
   ]
  },
  {
   "cell_type": "markdown",
   "id": "7e83b9b1-9e4f-453e-bd0e-77bccce7274c",
   "metadata": {},
   "source": [
    "You can access the Launcher menu by clicking on the + sign in the top left of your notebook instance."
   ]
  },
  {
   "cell_type": "markdown",
   "id": "b2908d95-f4eb-49ef-ae84-0adb23e54b9a",
   "metadata": {},
   "source": [
    "To install both services needed for this lab, first set the user flag in a notebook cell:"
   ]
  },
  {
   "cell_type": "code",
   "execution_count": 1,
   "id": "585960dc-fd28-4954-9343-e87d8b001cd3",
   "metadata": {},
   "outputs": [],
   "source": [
    "USER_FLAG = \"--user\""
   ]
  },
  {
   "cell_type": "markdown",
   "id": "eeb4bd04-3639-43ac-8558-2a9bc273caf3",
   "metadata": {},
   "source": [
    "Then run the following from your notebook:"
   ]
  },
  {
   "cell_type": "code",
   "execution_count": 2,
   "id": "e4766ebb-8f12-4870-ba3e-1afcc0c967c5",
   "metadata": {
    "collapsed": true,
    "jupyter": {
     "outputs_hidden": true
    },
    "tags": []
   },
   "outputs": [
    {
     "name": "stdout",
     "output_type": "stream",
     "text": [
      "Collecting google-cloud-aiplatform==1.0.0\n",
      "  Downloading google_cloud_aiplatform-1.0.0-py2.py3-none-any.whl (1.8 MB)\n",
      "\u001b[2K     \u001b[90m━━━━━━━━━━━━━━━━━━━━━━━━━━━━━━━━━━━━━━━━\u001b[0m \u001b[32m1.8/1.8 MB\u001b[0m \u001b[31m2.5 MB/s\u001b[0m eta \u001b[36m0:00:00\u001b[0m00:01\u001b[0m:00:01\u001b[0m\n",
      "\u001b[?25hRequirement already satisfied: google-api-core[grpc]<2.0.0dev,>=1.22.2 in /opt/conda/lib/python3.10/site-packages (from google-cloud-aiplatform==1.0.0) (1.34.0)\n",
      "Requirement already satisfied: proto-plus>=1.10.1 in /opt/conda/lib/python3.10/site-packages (from google-cloud-aiplatform==1.0.0) (1.22.2)\n",
      "Requirement already satisfied: packaging>=14.3 in /opt/conda/lib/python3.10/site-packages (from google-cloud-aiplatform==1.0.0) (23.1)\n",
      "Collecting google-cloud-storage<2.0.0dev,>=1.32.0 (from google-cloud-aiplatform==1.0.0)\n",
      "  Downloading google_cloud_storage-1.44.0-py2.py3-none-any.whl (106 kB)\n",
      "\u001b[2K     \u001b[90m━━━━━━━━━━━━━━━━━━━━━━━━━━━━━━━━━━━━━━\u001b[0m \u001b[32m106.8/106.8 kB\u001b[0m \u001b[31m15.6 MB/s\u001b[0m eta \u001b[36m0:00:00\u001b[0m\n",
      "\u001b[?25hCollecting google-cloud-bigquery<3.0.0dev,>=1.15.0 (from google-cloud-aiplatform==1.0.0)\n",
      "  Downloading google_cloud_bigquery-2.34.4-py2.py3-none-any.whl (206 kB)\n",
      "\u001b[2K     \u001b[90m━━━━━━━━━━━━━━━━━━━━━━━━━━━━━━━━━━━━━━\u001b[0m \u001b[32m206.6/206.6 kB\u001b[0m \u001b[31m26.6 MB/s\u001b[0m eta \u001b[36m0:00:00\u001b[0m\n",
      "\u001b[?25hRequirement already satisfied: googleapis-common-protos<2.0dev,>=1.56.2 in /opt/conda/lib/python3.10/site-packages (from google-api-core[grpc]<2.0.0dev,>=1.22.2->google-cloud-aiplatform==1.0.0) (1.59.1)\n",
      "Requirement already satisfied: protobuf!=3.20.0,!=3.20.1,!=4.21.0,!=4.21.1,!=4.21.2,!=4.21.3,!=4.21.4,!=4.21.5,<4.0.0dev,>=3.19.5 in /opt/conda/lib/python3.10/site-packages (from google-api-core[grpc]<2.0.0dev,>=1.22.2->google-cloud-aiplatform==1.0.0) (3.20.3)\n",
      "Requirement already satisfied: google-auth<3.0dev,>=1.25.0 in /opt/conda/lib/python3.10/site-packages (from google-api-core[grpc]<2.0.0dev,>=1.22.2->google-cloud-aiplatform==1.0.0) (2.20.0)\n",
      "Requirement already satisfied: requests<3.0.0dev,>=2.18.0 in /opt/conda/lib/python3.10/site-packages (from google-api-core[grpc]<2.0.0dev,>=1.22.2->google-cloud-aiplatform==1.0.0) (2.31.0)\n",
      "Requirement already satisfied: grpcio<2.0dev,>=1.33.2 in /opt/conda/lib/python3.10/site-packages (from google-api-core[grpc]<2.0.0dev,>=1.22.2->google-cloud-aiplatform==1.0.0) (1.51.3)\n",
      "Requirement already satisfied: grpcio-status<2.0dev,>=1.33.2 in /opt/conda/lib/python3.10/site-packages (from google-api-core[grpc]<2.0.0dev,>=1.22.2->google-cloud-aiplatform==1.0.0) (1.48.2)\n",
      "Requirement already satisfied: google-cloud-core<3.0.0dev,>=1.4.1 in /opt/conda/lib/python3.10/site-packages (from google-cloud-bigquery<3.0.0dev,>=1.15.0->google-cloud-aiplatform==1.0.0) (2.3.2)\n",
      "Requirement already satisfied: google-resumable-media<3.0dev,>=0.6.0 in /opt/conda/lib/python3.10/site-packages (from google-cloud-bigquery<3.0.0dev,>=1.15.0->google-cloud-aiplatform==1.0.0) (2.5.0)\n",
      "Collecting packaging>=14.3 (from google-cloud-aiplatform==1.0.0)\n",
      "  Downloading packaging-21.3-py3-none-any.whl (40 kB)\n",
      "\u001b[2K     \u001b[90m━━━━━━━━━━━━━━━━━━━━━━━━━━━━━━━━━━━━━━━━\u001b[0m \u001b[32m40.8/40.8 kB\u001b[0m \u001b[31m6.4 MB/s\u001b[0m eta \u001b[36m0:00:00\u001b[0m\n",
      "\u001b[?25hRequirement already satisfied: python-dateutil<3.0dev,>=2.7.2 in /opt/conda/lib/python3.10/site-packages (from google-cloud-bigquery<3.0.0dev,>=1.15.0->google-cloud-aiplatform==1.0.0) (2.8.2)\n",
      "Requirement already satisfied: six in /opt/conda/lib/python3.10/site-packages (from google-cloud-storage<2.0.0dev,>=1.32.0->google-cloud-aiplatform==1.0.0) (1.16.0)\n",
      "Requirement already satisfied: pyparsing!=3.0.5,>=2.0.2 in /opt/conda/lib/python3.10/site-packages (from packaging>=14.3->google-cloud-aiplatform==1.0.0) (3.0.9)\n",
      "Requirement already satisfied: cachetools<6.0,>=2.0.0 in /opt/conda/lib/python3.10/site-packages (from google-auth<3.0dev,>=1.25.0->google-api-core[grpc]<2.0.0dev,>=1.22.2->google-cloud-aiplatform==1.0.0) (5.3.1)\n",
      "Requirement already satisfied: pyasn1-modules>=0.2.1 in /opt/conda/lib/python3.10/site-packages (from google-auth<3.0dev,>=1.25.0->google-api-core[grpc]<2.0.0dev,>=1.22.2->google-cloud-aiplatform==1.0.0) (0.3.0)\n",
      "Requirement already satisfied: rsa<5,>=3.1.4 in /opt/conda/lib/python3.10/site-packages (from google-auth<3.0dev,>=1.25.0->google-api-core[grpc]<2.0.0dev,>=1.22.2->google-cloud-aiplatform==1.0.0) (4.9)\n",
      "Requirement already satisfied: urllib3<2.0 in /opt/conda/lib/python3.10/site-packages (from google-auth<3.0dev,>=1.25.0->google-api-core[grpc]<2.0.0dev,>=1.22.2->google-cloud-aiplatform==1.0.0) (1.26.16)\n",
      "Requirement already satisfied: google-crc32c<2.0dev,>=1.0 in /opt/conda/lib/python3.10/site-packages (from google-resumable-media<3.0dev,>=0.6.0->google-cloud-bigquery<3.0.0dev,>=1.15.0->google-cloud-aiplatform==1.0.0) (1.5.0)\n",
      "Requirement already satisfied: charset-normalizer<4,>=2 in /opt/conda/lib/python3.10/site-packages (from requests<3.0.0dev,>=2.18.0->google-api-core[grpc]<2.0.0dev,>=1.22.2->google-cloud-aiplatform==1.0.0) (3.1.0)\n",
      "Requirement already satisfied: idna<4,>=2.5 in /opt/conda/lib/python3.10/site-packages (from requests<3.0.0dev,>=2.18.0->google-api-core[grpc]<2.0.0dev,>=1.22.2->google-cloud-aiplatform==1.0.0) (3.4)\n",
      "Requirement already satisfied: certifi>=2017.4.17 in /opt/conda/lib/python3.10/site-packages (from requests<3.0.0dev,>=2.18.0->google-api-core[grpc]<2.0.0dev,>=1.22.2->google-cloud-aiplatform==1.0.0) (2023.5.7)\n",
      "Requirement already satisfied: pyasn1<0.6.0,>=0.4.6 in /opt/conda/lib/python3.10/site-packages (from pyasn1-modules>=0.2.1->google-auth<3.0dev,>=1.25.0->google-api-core[grpc]<2.0.0dev,>=1.22.2->google-cloud-aiplatform==1.0.0) (0.5.0)\n",
      "Installing collected packages: packaging, google-cloud-storage, google-cloud-bigquery, google-cloud-aiplatform\n",
      "\u001b[33m  WARNING: The script tb-gcp-uploader is installed in '/home/jupyter/.local/bin' which is not on PATH.\n",
      "  Consider adding this directory to PATH or, if you prefer to suppress this warning, use --no-warn-script-location.\u001b[0m\u001b[33m\n",
      "\u001b[0m\u001b[31mERROR: pip's dependency resolver does not currently take into account all the packages that are installed. This behaviour is the source of the following dependency conflicts.\n",
      "ydata-profiling 4.2.0 requires pandas!=1.4.0,<2,>1.1, but you have pandas 2.0.3 which is incompatible.\u001b[0m\u001b[31m\n",
      "\u001b[0mSuccessfully installed google-cloud-aiplatform-1.0.0 google-cloud-bigquery-2.34.4 google-cloud-storage-1.44.0 packaging-21.3\n",
      "Requirement already satisfied: kfp in /opt/conda/lib/python3.10/site-packages (1.8.22)\n",
      "Collecting kfp\n",
      "  Downloading kfp-2.6.0.tar.gz (425 kB)\n",
      "\u001b[2K     \u001b[90m━━━━━━━━━━━━━━━━━━━━━━━━━━━━━━━━━━━━━━\u001b[0m \u001b[32m425.3/425.3 kB\u001b[0m \u001b[31m17.2 MB/s\u001b[0m eta \u001b[36m0:00:00\u001b[0m\n",
      "\u001b[?25h  Preparing metadata (setup.py) ... \u001b[?25ldone\n",
      "\u001b[?25hCollecting google-cloud-pipeline-components==0.1.1\n",
      "  Downloading google_cloud_pipeline_components-0.1.1-py3-none-any.whl (17 kB)\n",
      "Requirement already satisfied: google-cloud-aiplatform>=1.0.0 in /home/jupyter/.local/lib/python3.10/site-packages (from google-cloud-pipeline-components==0.1.1) (1.0.0)\n",
      "Requirement already satisfied: absl-py<2,>=0.9 in /opt/conda/lib/python3.10/site-packages (from kfp) (1.4.0)\n",
      "Requirement already satisfied: PyYAML<7,>=5.3 in /opt/conda/lib/python3.10/site-packages (from kfp) (6.0)\n",
      "Requirement already satisfied: google-api-core!=2.0.*,!=2.1.*,!=2.2.*,!=2.3.0,<3.0.0dev,>=1.31.5 in /opt/conda/lib/python3.10/site-packages (from kfp) (1.34.0)\n",
      "Requirement already satisfied: google-cloud-storage<3,>=1.20.0 in /home/jupyter/.local/lib/python3.10/site-packages (from kfp) (1.44.0)\n",
      "Requirement already satisfied: kubernetes<26,>=8.0.0 in /opt/conda/lib/python3.10/site-packages (from kfp) (25.3.0)\n",
      "Requirement already satisfied: google-api-python-client<2,>=1.7.8 in /opt/conda/lib/python3.10/site-packages (from kfp) (1.8.0)\n",
      "Requirement already satisfied: google-auth<3,>=1.6.1 in /opt/conda/lib/python3.10/site-packages (from kfp) (2.20.0)\n",
      "Requirement already satisfied: requests-toolbelt<1,>=0.8.0 in /opt/conda/lib/python3.10/site-packages (from kfp) (0.10.1)\n",
      "Requirement already satisfied: cloudpickle<3,>=2.0.0 in /opt/conda/lib/python3.10/site-packages (from kfp) (2.2.1)\n",
      "Requirement already satisfied: kfp-server-api<2.0.0,>=1.1.2 in /opt/conda/lib/python3.10/site-packages (from kfp) (1.8.5)\n",
      "Requirement already satisfied: jsonschema<5,>=3.0.1 in /opt/conda/lib/python3.10/site-packages (from kfp) (4.17.3)\n",
      "Requirement already satisfied: tabulate<1,>=0.8.6 in /opt/conda/lib/python3.10/site-packages (from kfp) (0.9.0)\n",
      "Requirement already satisfied: click<9,>=7.1.2 in /opt/conda/lib/python3.10/site-packages (from kfp) (8.1.3)\n",
      "Requirement already satisfied: Deprecated<2,>=1.2.7 in /opt/conda/lib/python3.10/site-packages (from kfp) (1.2.14)\n",
      "Requirement already satisfied: strip-hints<1,>=0.1.8 in /opt/conda/lib/python3.10/site-packages (from kfp) (0.1.10)\n",
      "Requirement already satisfied: docstring-parser<1,>=0.7.3 in /opt/conda/lib/python3.10/site-packages (from kfp) (0.15)\n",
      "Requirement already satisfied: kfp-pipeline-spec<0.2.0,>=0.1.16 in /opt/conda/lib/python3.10/site-packages (from kfp) (0.1.16)\n",
      "Requirement already satisfied: fire<1,>=0.3.1 in /opt/conda/lib/python3.10/site-packages (from kfp) (0.5.0)\n",
      "Requirement already satisfied: protobuf<4,>=3.13.0 in /opt/conda/lib/python3.10/site-packages (from kfp) (3.20.3)\n",
      "Requirement already satisfied: uritemplate<4,>=3.0.1 in /opt/conda/lib/python3.10/site-packages (from kfp) (3.0.1)\n",
      "Requirement already satisfied: urllib3<2 in /opt/conda/lib/python3.10/site-packages (from kfp) (1.26.16)\n",
      "Requirement already satisfied: pydantic<2,>=1.8.2 in /opt/conda/lib/python3.10/site-packages (from kfp) (1.10.9)\n",
      "Requirement already satisfied: typer<1.0,>=0.3.2 in /opt/conda/lib/python3.10/site-packages (from kfp) (0.9.0)\n",
      "Requirement already satisfied: wrapt<2,>=1.10 in /opt/conda/lib/python3.10/site-packages (from Deprecated<2,>=1.2.7->kfp) (1.15.0)\n",
      "Requirement already satisfied: six in /opt/conda/lib/python3.10/site-packages (from fire<1,>=0.3.1->kfp) (1.16.0)\n",
      "Requirement already satisfied: termcolor in /opt/conda/lib/python3.10/site-packages (from fire<1,>=0.3.1->kfp) (2.3.0)\n",
      "Requirement already satisfied: googleapis-common-protos<2.0dev,>=1.56.2 in /opt/conda/lib/python3.10/site-packages (from google-api-core!=2.0.*,!=2.1.*,!=2.2.*,!=2.3.0,<3.0.0dev,>=1.31.5->kfp) (1.59.1)\n",
      "Requirement already satisfied: requests<3.0.0dev,>=2.18.0 in /opt/conda/lib/python3.10/site-packages (from google-api-core!=2.0.*,!=2.1.*,!=2.2.*,!=2.3.0,<3.0.0dev,>=1.31.5->kfp) (2.31.0)\n",
      "Requirement already satisfied: httplib2<1dev,>=0.9.2 in /opt/conda/lib/python3.10/site-packages (from google-api-python-client<2,>=1.7.8->kfp) (0.22.0)\n",
      "Requirement already satisfied: google-auth-httplib2>=0.0.3 in /opt/conda/lib/python3.10/site-packages (from google-api-python-client<2,>=1.7.8->kfp) (0.1.0)\n",
      "Requirement already satisfied: cachetools<6.0,>=2.0.0 in /opt/conda/lib/python3.10/site-packages (from google-auth<3,>=1.6.1->kfp) (5.3.1)\n",
      "Requirement already satisfied: pyasn1-modules>=0.2.1 in /opt/conda/lib/python3.10/site-packages (from google-auth<3,>=1.6.1->kfp) (0.3.0)\n",
      "Requirement already satisfied: rsa<5,>=3.1.4 in /opt/conda/lib/python3.10/site-packages (from google-auth<3,>=1.6.1->kfp) (4.9)\n",
      "Requirement already satisfied: proto-plus>=1.10.1 in /opt/conda/lib/python3.10/site-packages (from google-cloud-aiplatform>=1.0.0->google-cloud-pipeline-components==0.1.1) (1.22.2)\n",
      "Requirement already satisfied: packaging>=14.3 in /home/jupyter/.local/lib/python3.10/site-packages (from google-cloud-aiplatform>=1.0.0->google-cloud-pipeline-components==0.1.1) (21.3)\n",
      "Requirement already satisfied: google-cloud-bigquery<3.0.0dev,>=1.15.0 in /home/jupyter/.local/lib/python3.10/site-packages (from google-cloud-aiplatform>=1.0.0->google-cloud-pipeline-components==0.1.1) (2.34.4)\n",
      "Requirement already satisfied: google-cloud-core<3.0dev,>=1.6.0 in /opt/conda/lib/python3.10/site-packages (from google-cloud-storage<3,>=1.20.0->kfp) (2.3.2)\n",
      "Requirement already satisfied: google-resumable-media<3.0dev,>=1.3.0 in /opt/conda/lib/python3.10/site-packages (from google-cloud-storage<3,>=1.20.0->kfp) (2.5.0)\n",
      "Requirement already satisfied: attrs>=17.4.0 in /opt/conda/lib/python3.10/site-packages (from jsonschema<5,>=3.0.1->kfp) (23.1.0)\n",
      "Requirement already satisfied: pyrsistent!=0.17.0,!=0.17.1,!=0.17.2,>=0.14.0 in /opt/conda/lib/python3.10/site-packages (from jsonschema<5,>=3.0.1->kfp) (0.19.3)\n",
      "Requirement already satisfied: certifi in /opt/conda/lib/python3.10/site-packages (from kfp-server-api<2.0.0,>=1.1.2->kfp) (2023.5.7)\n",
      "Requirement already satisfied: python-dateutil in /opt/conda/lib/python3.10/site-packages (from kfp-server-api<2.0.0,>=1.1.2->kfp) (2.8.2)\n",
      "Requirement already satisfied: setuptools>=21.0.0 in /opt/conda/lib/python3.10/site-packages (from kubernetes<26,>=8.0.0->kfp) (67.7.2)\n",
      "Requirement already satisfied: websocket-client!=0.40.0,!=0.41.*,!=0.42.*,>=0.32.0 in /opt/conda/lib/python3.10/site-packages (from kubernetes<26,>=8.0.0->kfp) (1.5.3)\n",
      "Requirement already satisfied: requests-oauthlib in /opt/conda/lib/python3.10/site-packages (from kubernetes<26,>=8.0.0->kfp) (1.3.1)\n",
      "Requirement already satisfied: typing-extensions>=4.2.0 in /opt/conda/lib/python3.10/site-packages (from pydantic<2,>=1.8.2->kfp) (4.5.0)\n",
      "Requirement already satisfied: wheel in /opt/conda/lib/python3.10/site-packages (from strip-hints<1,>=0.1.8->kfp) (0.40.0)\n",
      "Requirement already satisfied: grpcio<2.0dev,>=1.33.2 in /opt/conda/lib/python3.10/site-packages (from google-api-core!=2.0.*,!=2.1.*,!=2.2.*,!=2.3.0,<3.0.0dev,>=1.31.5->kfp) (1.51.3)\n",
      "Requirement already satisfied: grpcio-status<2.0dev,>=1.33.2 in /opt/conda/lib/python3.10/site-packages (from google-api-core!=2.0.*,!=2.1.*,!=2.2.*,!=2.3.0,<3.0.0dev,>=1.31.5->kfp) (1.48.2)\n",
      "Requirement already satisfied: google-crc32c<2.0dev,>=1.0 in /opt/conda/lib/python3.10/site-packages (from google-resumable-media<3.0dev,>=1.3.0->google-cloud-storage<3,>=1.20.0->kfp) (1.5.0)\n",
      "Requirement already satisfied: pyparsing!=3.0.0,!=3.0.1,!=3.0.2,!=3.0.3,<4,>=2.4.2 in /opt/conda/lib/python3.10/site-packages (from httplib2<1dev,>=0.9.2->google-api-python-client<2,>=1.7.8->kfp) (3.0.9)\n",
      "Requirement already satisfied: pyasn1<0.6.0,>=0.4.6 in /opt/conda/lib/python3.10/site-packages (from pyasn1-modules>=0.2.1->google-auth<3,>=1.6.1->kfp) (0.5.0)\n",
      "Requirement already satisfied: charset-normalizer<4,>=2 in /opt/conda/lib/python3.10/site-packages (from requests<3.0.0dev,>=2.18.0->google-api-core!=2.0.*,!=2.1.*,!=2.2.*,!=2.3.0,<3.0.0dev,>=1.31.5->kfp) (3.1.0)\n",
      "Requirement already satisfied: idna<4,>=2.5 in /opt/conda/lib/python3.10/site-packages (from requests<3.0.0dev,>=2.18.0->google-api-core!=2.0.*,!=2.1.*,!=2.2.*,!=2.3.0,<3.0.0dev,>=1.31.5->kfp) (3.4)\n",
      "Requirement already satisfied: oauthlib>=3.0.0 in /opt/conda/lib/python3.10/site-packages (from requests-oauthlib->kubernetes<26,>=8.0.0->kfp) (3.2.2)\n",
      "Installing collected packages: google-cloud-pipeline-components\n",
      "Successfully installed google-cloud-pipeline-components-0.1.1\n"
     ]
    }
   ],
   "source": [
    "!pip3 install {USER_FLAG} google-cloud-aiplatform==1.0.0 --upgrade\n",
    "!pip3 install {USER_FLAG} kfp google-cloud-pipeline-components==0.1.1 --upgrade"
   ]
  },
  {
   "cell_type": "markdown",
   "id": "f42611db-a84c-4806-9d29-045f851c4677",
   "metadata": {},
   "source": [
    "After installing these packages you'll need to restart the kernel:"
   ]
  },
  {
   "cell_type": "code",
   "execution_count": 1,
   "id": "774b8439-1112-4eed-af7a-76ca97bf2b2c",
   "metadata": {},
   "outputs": [],
   "source": [
    "import os\n",
    "\n",
    "if not os.getenv(\"IS_TESTING\"):\n",
    "    # インストール後カーネルを自動で再起動\n",
    "    import IPython\n",
    "\n",
    "    app = IPython.Application.instance()\n",
    "    app.kernel.do_shutdown(True)"
   ]
  },
  {
   "cell_type": "markdown",
   "id": "9b914f61-fad2-42d5-9918-92c954bce7d3",
   "metadata": {},
   "source": [
    "Finally, check that you have correctly installed the packages. The KFP SDK version should be >=1.6:"
   ]
  },
  {
   "cell_type": "code",
   "execution_count": 55,
   "id": "b05e0687-46fc-40bc-bf43-bf678e6e3182",
   "metadata": {},
   "outputs": [
    {
     "name": "stdout",
     "output_type": "stream",
     "text": [
      "KFP SDK version: 1.8.22\n",
      "google_cloud_pipeline_components version: 0.1.1\n"
     ]
    }
   ],
   "source": [
    "!python3 -c \"import kfp; print('KFP SDK version: {}'.format(kfp.__version__))\"\n",
    "!python3 -c \"import google_cloud_pipeline_components; print('google_cloud_pipeline_components version: {}'.format(google_cloud_pipeline_components.__version__))\""
   ]
  },
  {
   "cell_type": "markdown",
   "id": "853cee4d-6d9c-4a21-8948-f0510e8f65f4",
   "metadata": {},
   "source": [
    "### Step 2: Set your project ID and bucket"
   ]
  },
  {
   "cell_type": "markdown",
   "id": "d6e70116-03be-41c3-abac-c527a17fa309",
   "metadata": {},
   "source": [
    "Throughout this training you'll reference your Cloud Project ID and the bucket you created earlier. Next you'll create variables for each of those."
   ]
  },
  {
   "cell_type": "markdown",
   "id": "df416486-827a-415a-9dcd-bbb32d979580",
   "metadata": {},
   "source": [
    "Then create a variable to store your bucket name."
   ]
  },
  {
   "cell_type": "code",
   "execution_count": 1,
   "id": "0dcd7800-9150-430d-85d1-7dbaf2991fed",
   "metadata": {},
   "outputs": [],
   "source": [
    "PROJECT_ID = \"ccbd-ecbdp-bds\"\n",
    "BUCKET_NAME = \"gs://ccbd-bds-aa-kfp-test\""
   ]
  },
  {
   "cell_type": "markdown",
   "id": "315861d5-a8e0-4eda-9ff5-6f5da3710064",
   "metadata": {},
   "source": [
    "### Step 3: Import libraries"
   ]
  },
  {
   "cell_type": "markdown",
   "id": "6841db37-d3f5-42df-a654-c9e0b600eb33",
   "metadata": {},
   "source": [
    "Add the following to import the libraries you'll be using throughout this lab:"
   ]
  },
  {
   "cell_type": "code",
   "execution_count": 2,
   "id": "20090bba-9063-45ab-88f8-ced59bc466d1",
   "metadata": {},
   "outputs": [],
   "source": [
    "from typing import NamedTuple\n",
    "\n",
    "import kfp\n",
    "from kfp import dsl\n",
    "from kfp.v2 import compiler\n",
    "from kfp.v2.dsl import (Artifact, Dataset, Input, InputPath, Model, Output,\n",
    "                        OutputPath, ClassificationMetrics, Metrics, component)\n",
    "from kfp.v2.google.client import AIPlatformClient\n",
    "\n",
    "from google.cloud import aiplatform\n",
    "from google_cloud_pipeline_components import aiplatform as gcc_aip"
   ]
  },
  {
   "cell_type": "markdown",
   "id": "34a42b3a-d90e-4277-9e58-0bae8a09e873",
   "metadata": {},
   "source": [
    "### Step 4: Define constants"
   ]
  },
  {
   "cell_type": "markdown",
   "id": "c084cf94-a7ed-4f7d-b3b6-e479f75e772d",
   "metadata": {},
   "source": [
    "The last thing you need to do before building the pipeline is define some constant variables. `PIPELINE_ROOT` is the Cloud Storage path where the artifacts created by your pipeline will be written. You're using `asia-northeast1`. as the region here:"
   ]
  },
  {
   "cell_type": "code",
   "execution_count": 3,
   "id": "48e0f08b-d4f2-4cf9-8371-8cd32f6d8d44",
   "metadata": {},
   "outputs": [
    {
     "name": "stdout",
     "output_type": "stream",
     "text": [
      "env: PATH=/opt/conda/bin:/opt/conda/condabin:/usr/local/bin:/usr/bin:/bin:/usr/local/games:/usr/games:/home/jupyter/.local/bin\n",
      "gs://ccbd-bds-aa-kfp-test/pipeline_root/\n"
     ]
    }
   ],
   "source": [
    "PATH=%env PATH\n",
    "%env PATH={PATH}:/home/jupyter/.local/bin\n",
    "\n",
    "REGION=\"asia-northeast1\"\n",
    "PIPELINE_ROOT = f\"{BUCKET_NAME}/pipeline_root/\"\n",
    "print(PIPELINE_ROOT)"
   ]
  },
  {
   "cell_type": "markdown",
   "id": "e2108772-8343-4492-abc3-524331d64e56",
   "metadata": {},
   "source": [
    "After running the code above, you should see the root directory for your pipeline printed. This is the Cloud Storage location where the artifacts from your pipeline will be written. It will be in the format of `gs://<bucket_name>/pipeline_root/`."
   ]
  },
  {
   "cell_type": "markdown",
   "id": "57430b33-46d9-4ae4-acbb-139b59e84533",
   "metadata": {},
   "source": [
    "## Creating your first pipeline"
   ]
  },
  {
   "cell_type": "markdown",
   "id": "76ba77d4-45f1-48cf-a0ca-49261f6679a4",
   "metadata": {},
   "source": [
    "- Create a short pipeline using the KFP SDK. This pipeline doesn't do anything ML related (don't worry, you'll get there!), this exercise is to teach you:\n",
    "    - How to create custom components in the KFP SDK\n",
    "    - How to run and monitor a pipeline in Vertex Pipelines"
   ]
  },
  {
   "cell_type": "markdown",
   "id": "b9ed4932-cb8e-4daa-9306-2d36c0b8fea3",
   "metadata": {},
   "source": [
    "- You'll create a pipeline that prints out a sentence using two outputs: a product name and an emoji description. This pipeline will consist of three components:\n",
    "\n",
    "    - product_name: This component will take a product name as input, and return that string as output.\n",
    "    - emoji: This component will take the text description of an emoji and convert it to an emoji. For example, the text code for ✨ is \"sparkles\". This component uses an emoji library to show you how to manage external dependencies in your pipeline.\n",
    "    - build_sentence: This final component will consume the output of the previous two to build a sentence that uses the emoji. For example, the resulting output might be \"Vertex Pipelines is ✨\"."
   ]
  },
  {
   "cell_type": "markdown",
   "id": "2aa9abf6-8c0f-4e87-8be7-091e82c167a5",
   "metadata": {},
   "source": [
    "### Step 1: Create a Python function based component"
   ]
  },
  {
   "cell_type": "markdown",
   "id": "f977b9de-a7d0-451e-b49a-e12594b570bd",
   "metadata": {},
   "source": [
    "Using the KFP SDK, you can create components based on Python functions. First build the `product_name` component, which simply takes a string as input and returns that string."
   ]
  },
  {
   "cell_type": "markdown",
   "id": "12e1c701-858e-44c0-8982-f51455324ed6",
   "metadata": {},
   "source": [
    "- Add the following to your notebook:"
   ]
  },
  {
   "cell_type": "code",
   "execution_count": 4,
   "id": "4cfe4fd1-7d19-42fc-94ac-e4de0e4bcb94",
   "metadata": {},
   "outputs": [],
   "source": [
    "@component(base_image=\"python:3.9\", output_component_file=\"first-component.yaml\")\n",
    "def product_name(text: str) -> str:\n",
    "    return text"
   ]
  },
  {
   "cell_type": "markdown",
   "id": "1366fd4a-2d18-4873-8f18-a319b0e1bacf",
   "metadata": {},
   "source": [
    "Take a closer look at the syntax here:\n",
    "\n",
    "- The `@component` decorator compiles this function to a component when the pipeline is run. You'll use this anytime you write a custom component.\n",
    "- The `base_image` parameter specifies the container image this component will use.\n",
    "- The `output_component_file` parameter is optional, and specifies the yaml file to write the compiled component to. After running the cell you should see that file written to your notebook instance. If you wanted to share this component with someone, you could send them the generated yaml file and have them load it with the following:"
   ]
  },
  {
   "cell_type": "code",
   "execution_count": 5,
   "id": "67f044e0-38b0-4dbc-949a-d485fde85f46",
   "metadata": {},
   "outputs": [],
   "source": [
    "product_name_component = kfp.components.load_component_from_file('./first-component.yaml')"
   ]
  },
  {
   "cell_type": "markdown",
   "id": "e595efbb-8e71-43d4-8fc2-3dc230b427ad",
   "metadata": {},
   "source": [
    "The `-> str` after the function definition specifies the output type for this component."
   ]
  },
  {
   "cell_type": "markdown",
   "id": "5cbbbbae-6b3b-4b6f-8793-d9b5a2dfda7b",
   "metadata": {},
   "source": [
    "### Step 2: Create two additional components"
   ]
  },
  {
   "cell_type": "markdown",
   "id": "363a5b39-1323-45c9-b9fb-b6bcd2e92f7a",
   "metadata": {},
   "source": [
    "1. To complete the pipeline, create two more components. The first one takes a string as input, and converts this string to its corresponding emoji if there is one. It returns a tuple with the input text passed, and the resulting emoji:"
   ]
  },
  {
   "cell_type": "code",
   "execution_count": 6,
   "id": "da26b875-a25c-450a-90ce-aa0a968f5078",
   "metadata": {},
   "outputs": [],
   "source": [
    "@component(base_image=\"python:3.9\", output_component_file=\"second-component.yaml\", packages_to_install=[\"emoji\"])\n",
    "def emoji(\n",
    "    text: str,\n",
    ") -> NamedTuple(\n",
    "    \"Outputs\",\n",
    "    [\n",
    "        (\"emoji_text\", str),  # Return parameters\n",
    "        (\"emoji\", str),\n",
    "    ],\n",
    "):\n",
    "    import emoji\n",
    "\n",
    "    emoji_text = text\n",
    "    emoji_str = emoji.emojize(':' + emoji_text + ':', language='alias')\n",
    "    print(\"output one: {}; output_two: {}\".format(emoji_text, emoji_str))\n",
    "    return (emoji_text, emoji_str)"
   ]
  },
  {
   "cell_type": "markdown",
   "id": "5380f909-64c5-45fd-bc60-b3fec7ba75a4",
   "metadata": {},
   "source": [
    "This component is a bit more complex than the previous one. Here's what's new:"
   ]
  },
  {
   "cell_type": "markdown",
   "id": "99ea44ff-2694-4695-af25-d0bb082f6365",
   "metadata": {},
   "source": [
    "- The `packages_to_install` parameter tells the component any external library dependencies for this container. In this case, you're using a library called emoji.\n",
    "- This component returns a `NamedTuple` called `Outputs`. Notice that each of the strings in this tuple have keys: `emoji_text` and `emoji`. You'll use these in your next component to access the output."
   ]
  },
  {
   "cell_type": "markdown",
   "id": "c3715f75-d362-4dca-9555-7562715df888",
   "metadata": {},
   "source": [
    "2. The final component in this pipeline will consume the output of the first two and combine them to return a string:"
   ]
  },
  {
   "cell_type": "code",
   "execution_count": 7,
   "id": "51f5f274-3b3e-483f-a4f1-e72fa6b3774e",
   "metadata": {},
   "outputs": [],
   "source": [
    "@component(base_image=\"python:3.9\", output_component_file=\"third-component.yaml\")\n",
    "def build_sentence(\n",
    "    product: str,\n",
    "    emoji: str,\n",
    "    emojitext: str\n",
    ") -> str:\n",
    "    print(\"We completed the pipeline, hooray!\")\n",
    "    end_str = product + \" is \"\n",
    "    if len(emoji) > 0:\n",
    "        end_str += emoji\n",
    "    else:\n",
    "        end_str += emojitext\n",
    "    return(end_str)"
   ]
  },
  {
   "cell_type": "markdown",
   "id": "167e7ead-57ad-4db3-a21b-194ecffb0ffd",
   "metadata": {},
   "source": [
    "You might be wondering: how does this component know to use the output from the previous steps you defined?\n",
    "\n",
    "Good question! You will tie it all together in the next step."
   ]
  },
  {
   "cell_type": "markdown",
   "id": "c3da6d16-0a69-4b07-bafd-1ff08e56d83f",
   "metadata": {},
   "source": [
    "### Step 3: Putting the components together into a pipeline"
   ]
  },
  {
   "cell_type": "markdown",
   "id": "482d9120-8fa5-4030-b427-d2af7b724645",
   "metadata": {},
   "source": [
    "The component definitions defined above created factory functions that can be used in a pipeline definition to create steps."
   ]
  },
  {
   "cell_type": "markdown",
   "id": "74ca76b1-dceb-46f3-ba46-14042f886f7f",
   "metadata": {},
   "source": [
    "1. To set up a pipeline, use the `@dsl.pipeline` decorator, give the pipeline a name and description, and provide the root path where your pipeline's artifacts should be written. By artifacts, it means any output files generated by your pipeline. This intro pipeline doesn't generate any, but your next pipeline will.\n",
    "\n",
    "2. In the next block of code you define an `intro_pipeline` function. This is where you specify the inputs to your initial pipeline steps, and how steps connect to each other:"
   ]
  },
  {
   "cell_type": "markdown",
   "id": "b2c5b8fb-825a-40e3-b598-0a412cfa95dc",
   "metadata": {},
   "source": [
    "- product_task takes a product name as input. Here you're passing \"Vertex Pipelines\" but you can change this to whatever you'd like.\n",
    "- emoji_task takes the text code for an emoji as input. You can also change this to whatever you'd like. For example, \"party_face\" refers to the 🥳 emoji. Note that since both this and the product_task component don't have any steps that feed input into them, you manually specify the input for these when you define your pipeline.\n",
    "- The last step in the pipeline - consumer_task has three input parameters:\n",
    "    - The output of product_task. Since this step only produces one output, you can reference it via product_task.output.\n",
    "    - The emoji output of the emoji_task step. See the emoji component defined above where you named the output parameters.\n",
    "    - Similarly, the emoji_text named output from the emoji component. In case your pipeline is passed text that doesn't correspond with an emoji, it'll use this text to construct a sentence."
   ]
  },
  {
   "cell_type": "code",
   "execution_count": 8,
   "id": "7170162b-aff4-4719-82c4-e0061633477a",
   "metadata": {},
   "outputs": [],
   "source": [
    "@dsl.pipeline(\n",
    "    name=\"hello-world\",\n",
    "    description=\"An intro pipeline\",\n",
    "    pipeline_root=PIPELINE_ROOT,\n",
    ")\n",
    "\n",
    "# ここでパラメータ `text` と `emoji_str` を変更することでパイプラインの出力を変更可能\n",
    "def intro_pipeline(text: str = \"Vertex Pipelines\", emoji_str: str = \"sparkles\"):\n",
    "    product_task = product_name(text)\n",
    "    emoji_task = emoji(emoji_str)\n",
    "    consumer_task = build_sentence(\n",
    "        product_task.output,\n",
    "        emoji_task.outputs[\"emoji\"],\n",
    "        emoji_task.outputs[\"emoji_text\"],\n",
    "    )"
   ]
  },
  {
   "cell_type": "markdown",
   "id": "20753f35-df92-4ead-9cbc-7c466091889b",
   "metadata": {},
   "source": [
    "### Step 4: Compile and run the pipeline"
   ]
  },
  {
   "cell_type": "markdown",
   "id": "a462e6d6-8e99-47a5-b80e-054e15b59328",
   "metadata": {},
   "source": [
    "1. With your pipeline defined, you're ready to compile it. The following will generate a JSON file that you'll use to run the pipeline:"
   ]
  },
  {
   "cell_type": "code",
   "execution_count": 9,
   "id": "a80ce2f8-f240-4f71-bf6d-04e33f261b5d",
   "metadata": {},
   "outputs": [
    {
     "name": "stderr",
     "output_type": "stream",
     "text": [
      "/opt/conda/lib/python3.10/site-packages/kfp/v2/compiler/compiler.py:1290: FutureWarning: APIs imported from the v1 namespace (e.g. kfp.dsl, kfp.components, etc) will not be supported by the v2 compiler since v2.0.0\n",
      "  warnings.warn(\n"
     ]
    }
   ],
   "source": [
    "compiler.Compiler().compile(\n",
    "    pipeline_func=intro_pipeline, package_path=\"intro_pipeline_job.json\"\n",
    ")"
   ]
  },
  {
   "cell_type": "markdown",
   "id": "f70b05f7-51d6-4769-86b9-bde8e64e943c",
   "metadata": {},
   "source": [
    "2. Next, instantiate an API client:"
   ]
  },
  {
   "cell_type": "code",
   "execution_count": 10,
   "id": "63e17fd6-9bf9-42b7-afd4-2fdf9a717267",
   "metadata": {},
   "outputs": [
    {
     "name": "stderr",
     "output_type": "stream",
     "text": [
      "/opt/conda/lib/python3.10/site-packages/kfp/v2/google/client/client.py:169: FutureWarning: AIPlatformClient will be deprecated in v2.0.0. Please use PipelineJob https://googleapis.dev/python/aiplatform/latest/_modules/google/cloud/aiplatform/pipeline_jobs.html in Vertex SDK. Install the SDK using \"pip install google-cloud-aiplatform\"\n",
      "  warnings.warn(\n"
     ]
    }
   ],
   "source": [
    "api_client = AIPlatformClient(\n",
    "    project_id=PROJECT_ID,\n",
    "    region=REGION,\n",
    ")"
   ]
  },
  {
   "cell_type": "markdown",
   "id": "6c31b318-f79a-4f09-b174-f729a58a0e60",
   "metadata": {},
   "source": [
    "3. Finally, run the pipeline:"
   ]
  },
  {
   "cell_type": "code",
   "execution_count": 11,
   "id": "8fad8337-6ad0-408c-8fde-862d0a7a7ba9",
   "metadata": {},
   "outputs": [
    {
     "name": "stdout",
     "output_type": "stream",
     "text": [
      "INFO:googleapiclient.discovery:URL being requested: POST https://asia-northeast1-aiplatform.googleapis.com/v1beta1/projects/ccbd-ecbdp-bds/locations/asia-northeast1/pipelineJobs?pipelineJobId=hello-world-20240116052534&alt=json\n"
     ]
    },
    {
     "data": {
      "text/html": [
       "See the Pipeline job <a href=\"https://console.cloud.google.com/vertex-ai/locations/asia-northeast1/pipelines/runs/hello-world-20240116052534?project=ccbd-ecbdp-bds\" target=\"_blank\" >here</a>."
      ],
      "text/plain": [
       "<IPython.core.display.HTML object>"
      ]
     },
     "metadata": {},
     "output_type": "display_data"
    }
   ],
   "source": [
    "response = api_client.create_run_from_job_spec(\n",
    "    job_spec_path=\"intro_pipeline_job.json\",\n",
    "    # pipeline_root=PIPELINE_ROOT  # パイプライン定義の一部として PIPELINE_ROOT を定義しなかった場合はこの引数が必要になる\n",
    ")"
   ]
  },
  {
   "cell_type": "markdown",
   "id": "a20f8275-f6bd-4176-8e65-f2c3162112df",
   "metadata": {},
   "source": [
    "Running the pipeline should generate a link to view the pipeline run in your console. It should look like this when complete:"
   ]
  },
  {
   "cell_type": "markdown",
   "id": "49afd345-224f-40ac-94cf-7b711d8c083e",
   "metadata": {},
   "source": [
    "<img src=\"img/GCP_pipeline.png\">"
   ]
  },
  {
   "cell_type": "markdown",
   "id": "5195a004-e3fe-48c4-b267-1695e4d7e14e",
   "metadata": {},
   "source": [
    "4. This pipeline will take 5-6 minutes to run. When complete, you can click on the `build-sentence` component to see the final output:"
   ]
  },
  {
   "cell_type": "markdown",
   "id": "0ba9ec60-5848-4772-9d19-2ddb21b6a97a",
   "metadata": {},
   "source": [
    "<img src=\"img/GCP_pipelineinfo.png\">"
   ]
  },
  {
   "cell_type": "markdown",
   "id": "1dd4249d-0652-4c3c-ac83-c58437d89ab3",
   "metadata": {},
   "source": [
    "Now that you're familiar with how the KFP SDK and Vertex Pipelines works, you're ready to build a pipeline that creates and deploys an ML model using other Vertex AI services."
   ]
  },
  {
   "cell_type": "code",
   "execution_count": null,
   "id": "76cbbf56-8b9d-4bab-84f2-3df7306fc8d4",
   "metadata": {},
   "outputs": [],
   "source": []
  }
 ],
 "metadata": {
  "environment": {
   "kernel": "python3",
   "name": "common-cpu.m109",
   "type": "gcloud",
   "uri": "gcr.io/deeplearning-platform-release/base-cpu:m109"
  },
  "kernelspec": {
   "display_name": "Python 3",
   "language": "python",
   "name": "python3"
  },
  "language_info": {
   "codemirror_mode": {
    "name": "ipython",
    "version": 3
   },
   "file_extension": ".py",
   "mimetype": "text/x-python",
   "name": "python",
   "nbconvert_exporter": "python",
   "pygments_lexer": "ipython3",
   "version": "3.10.11"
  }
 },
 "nbformat": 4,
 "nbformat_minor": 5
}
